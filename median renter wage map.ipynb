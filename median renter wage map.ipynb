{
 "cells": [
  {
   "cell_type": "code",
   "execution_count": null,
   "metadata": {},
   "outputs": [],
   "source": [
    "import geopandas as gpd\n",
    "import pandas as pd\n",
    "import json\n",
    "import plotly.express as px\n",
    "import zipfile\n",
    "with zipfile.ZipFile('main_map1.zip','r',) as zip_ref:\n",
    "    zip_ref.extractall()"
   ]
  },
  {
   "cell_type": "code",
   "execution_count": null,
   "metadata": {},
   "outputs": [],
   "source": [
    "gdf1 = gpd.read_file('main_map1.geojson')\n",
    "gdf1 = gdf1.to_file(\"map6.geojson\",driver='GeoJSON')\n",
    "df1 = pd.read_csv(\"main_table1.csv\")"
   ]
  },
  {
   "cell_type": "code",
   "execution_count": null,
   "metadata": {},
   "outputs": [],
   "source": [
    "with open (\"map6.geojson\",'r') as infile:\n",
    "    pacitiesjson = json.load(infile)"
   ]
  },
  {
   "cell_type": "code",
   "execution_count": null,
   "metadata": {},
   "outputs": [],
   "source": [
    "fig = px.choropleth_mapbox(f1,geojson=pacitiesjson,\n",
    "                          locations='FIPS',featureidkey='properties.FIPS',\n",
    "                          color='median_renter_wage',\n",
    "                          hover_name='NAMELSAD',\n",
    "                          range_color=(f1.median_renter_wage.describe()[1]-f1.median_renter_wage.describe()[2],f1.median_renter_wage.describe()[1]+f1.median_renter_wage.describe()[2]),\n",
    "                          mapbox_style='carto-positron',\n",
    "                          color_continuous_scale='viridis',\n",
    "                          zoom=6.3,center = {\"lat\": 40.9998307, \"lon\": -77.6162591},\n",
    "                          opacity=0.5)\n",
    "fig.show()"
   ]
  }
 ],
 "metadata": {
  "kernelspec": {
   "display_name": "Python 3",
   "language": "python",
   "name": "python3"
  },
  "language_info": {
   "codemirror_mode": {
    "name": "ipython",
    "version": 3
   },
   "file_extension": ".py",
   "mimetype": "text/x-python",
   "name": "python",
   "nbconvert_exporter": "python",
   "pygments_lexer": "ipython3",
   "version": "3.8.5"
  }
 },
 "nbformat": 4,
 "nbformat_minor": 4
}
